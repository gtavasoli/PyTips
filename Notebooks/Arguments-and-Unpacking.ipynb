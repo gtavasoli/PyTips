{
 "cells": [
  {
   "cell_type": "markdown",
   "id": "monetary-offset",
   "metadata": {},
   "source": [
    "## Function call parameter rules and unpacking\n",
    "\n",
    "Python functions have the following four forms when declaring parameters:\n",
    "1. Without default value: `def func(a): pass`\n",
    "1. With default value: `def func(a, b = 1): pass`\n",
    "1. Arbitrary position parameters: `def func(a, b = 1, *c): pass`\n",
    "1. Arbitrary key parameter: `def func(a, b = 1, *c, **d): pass`\n",
    "\n",
    "When calling a function, there are two situations:\n",
    "1. Parameters without keywords: `func(\"G\", 20)`\n",
    "1. Parameters with keywords: `func(a = \"G\", b = 20)` (The order of calls with keywords can be ignored: `func(b = 20, a = \"G\"`)\n",
    "\n",
    "Of course, these two situations can be mixed: `func(\"G\", b = 20)`, but the most important rule is that **positional parameters cannot appear after keyword parameters**: "
   ]
  },
  {
   "cell_type": "code",
   "execution_count": 1,
   "id": "sensitive-chair",
   "metadata": {},
   "outputs": [
    {
     "ename": "SyntaxError",
     "evalue": "positional argument follows keyword argument (<ipython-input-1-e992e15b49ad>, line 4)",
     "output_type": "error",
     "traceback": [
      "\u001b[1;36m  File \u001b[1;32m\"<ipython-input-1-e992e15b49ad>\"\u001b[1;36m, line \u001b[1;32m4\u001b[0m\n\u001b[1;33m    func(a = \"G\", 20) # SyntaxError\u001b[0m\n\u001b[1;37m                 ^\u001b[0m\n\u001b[1;31mSyntaxError\u001b[0m\u001b[1;31m:\u001b[0m positional argument follows keyword argument\n"
     ]
    }
   ],
   "source": [
    "def func(a, b = 1):\n",
    "    pass\n",
    "\n",
    "func(a = \"G\", 20) # SyntaxError"
   ]
  },
  {
   "cell_type": "markdown",
   "id": "logical-graham",
   "metadata": {},
   "source": [
    "Another rule is position parameter priority: "
   ]
  },
  {
   "cell_type": "code",
   "execution_count": 3,
   "id": "dental-pioneer",
   "metadata": {},
   "outputs": [
    {
     "ename": "TypeError",
     "evalue": "func() got multiple values for argument 'a'",
     "output_type": "error",
     "traceback": [
      "\u001b[1;31m---------------------------------------------------------------------------\u001b[0m",
      "\u001b[1;31mTypeError\u001b[0m                                 Traceback (most recent call last)",
      "\u001b[1;32m<ipython-input-3-17d12e687fc9>\u001b[0m in \u001b[0;36m<module>\u001b[1;34m\u001b[0m\n\u001b[0;32m      2\u001b[0m     \u001b[1;32mpass\u001b[0m\u001b[1;33m\u001b[0m\u001b[1;33m\u001b[0m\u001b[0m\n\u001b[0;32m      3\u001b[0m \u001b[1;33m\u001b[0m\u001b[0m\n\u001b[1;32m----> 4\u001b[1;33m \u001b[0mfunc\u001b[0m\u001b[1;33m(\u001b[0m\u001b[1;36m20\u001b[0m\u001b[1;33m,\u001b[0m \u001b[0ma\u001b[0m \u001b[1;33m=\u001b[0m \u001b[1;34m\"G\"\u001b[0m\u001b[1;33m)\u001b[0m \u001b[1;31m# TypeError\u001b[0m\u001b[1;33m\u001b[0m\u001b[1;33m\u001b[0m\u001b[0m\n\u001b[0m",
      "\u001b[1;31mTypeError\u001b[0m: func() got multiple values for argument 'a'"
     ]
    }
   ],
   "source": [
    "def func(a, b = 1):\n",
    "    pass\n",
    "\n",
    "func(20, a = \"G\") # TypeError: Repeat assignment to parameter a"
   ]
  },
  {
   "cell_type": "markdown",
   "id": "athletic-armstrong",
   "metadata": {},
   "source": [
    "**The safest way is to use all keyword parameters.**"
   ]
  },
  {
   "cell_type": "markdown",
   "id": "dedicated-russian",
   "metadata": {},
   "source": [
    "### Arbitrary Parameters\n",
    "Any parameter can accept any number of parameters, where the form of `*a` represents any number of **positional parameters**, and `**d` represents any number of **keyword parameters**:"
   ]
  },
  {
   "cell_type": "code",
   "execution_count": 4,
   "id": "changed-turkey",
   "metadata": {},
   "outputs": [
    {
     "name": "stdout",
     "output_type": "stream",
     "text": [
      "G20@Hz\n"
     ]
    }
   ],
   "source": [
    "def concat(*lst, sep = \"/\"):\n",
    "    return sep.join((str(i) for i in lst))\n",
    "\n",
    "print(concat(\"G\", 20, \"@\", \"Hz\", sep = \"\"))"
   ]
  },
  {
   "cell_type": "markdown",
   "id": "derived-plaintiff",
   "metadata": {},
   "source": [
    "The syntax of the above `def concat(*lst, sep = \"/\")` was proposed by [PEP 3102](https://www.python.org/dev/peps/pep-3102/) and implemented after **Python 3.0**. The keyword function here must be clearly specified and cannot be inferred by position:"
   ]
  },
  {
   "cell_type": "code",
   "execution_count": 5,
   "id": "afraid-harrison",
   "metadata": {},
   "outputs": [
    {
     "name": "stdout",
     "output_type": "stream",
     "text": [
      "G/20/-\n"
     ]
    }
   ],
   "source": [
    "print(concat(\"G\", 20, \"-\")) # Not G-20"
   ]
  },
  {
   "cell_type": "markdown",
   "id": "narrow-chair",
   "metadata": {},
   "source": [
    "`**d` represents any number of keyword parameters"
   ]
  },
  {
   "cell_type": "code",
   "execution_count": 6,
   "id": "abstract-robertson",
   "metadata": {},
   "outputs": [
    {
     "name": "stdout",
     "output_type": "stream",
     "text": [
      "hello~world\n",
      "python~rocks\n"
     ]
    }
   ],
   "source": [
    "def dconcat(sep = \":\", **dic):\n",
    "    for k in dic.keys():\n",
    "        print(\"{}{}{}\".format(k, sep, dic[k]))\n",
    "\n",
    "dconcat(hello = \"world\", python = \"rocks\", sep = \"~\")"
   ]
  },
  {
   "cell_type": "markdown",
   "id": "accepted-melissa",
   "metadata": {},
   "source": [
    "### Unpacking\n",
    "The new feature [PEP 448](https://www.python.org/dev/peps/pep-0448/) added in **Python 3.5** allows `*a` and `**d` to be used outside of function parameters:"
   ]
  },
  {
   "cell_type": "code",
   "execution_count": 19,
   "id": "attractive-cheat",
   "metadata": {},
   "outputs": [
    {
     "name": "stdout",
     "output_type": "stream",
     "text": [
      "0 1 2 3 4\n",
      "0 1 2 3\n",
      "(0, 1, 2)\n",
      "rocks\n",
      "hello python\n",
      "hello\n"
     ]
    }
   ],
   "source": [
    "print(*range(5))\n",
    "lst = [0, 1, 2, 3]\n",
    "print(*lst)\n",
    "\n",
    "a = *range(3), # The comma here cannot be omitted\n",
    "print(a)\n",
    "\n",
    "d = {\"hello\": \"world\", \"python\": \"rocks\"}\n",
    "print({**d}[\"python\"])\n",
    "print(*d)\n",
    "print([*d][0])"
   ]
  },
  {
   "cell_type": "markdown",
   "id": "authentic-billion",
   "metadata": {},
   "source": [
    "The so-called unpacking (Unpacking) can actually be regarded as removing the tuple of `()` or removing the dictionary of `{}`. This syntax also provides a more Pythonic way to merge dictionaries:"
   ]
  },
  {
   "cell_type": "code",
   "execution_count": 10,
   "id": "published-detection",
   "metadata": {},
   "outputs": [
    {
     "name": "stdout",
     "output_type": "stream",
     "text": [
      "{'name': 'Trey', 'page_name': 'Profile Page', 'website': 'http://treyhunner.com'}\n"
     ]
    }
   ],
   "source": [
    "user = {'name': \"Trey\", 'website': \"http://treyhunner.com\"}\n",
    "defaults = {'name': \"Anonymous User\", 'page_name': \"Profile Page\"}\n",
    "\n",
    "print({**defaults, **user})"
   ]
  },
  {
   "cell_type": "markdown",
   "id": "paperback-finder",
   "metadata": {},
   "source": [
    "Using this unpacking method when calling a function is also available in **Python 2.7**:"
   ]
  },
  {
   "cell_type": "code",
   "execution_count": 20,
   "id": "steady-representative",
   "metadata": {},
   "outputs": [
    {
     "name": "stdout",
     "output_type": "stream",
     "text": [
      "I/L/o/v/e/P/y/t/h/o/n\n"
     ]
    }
   ],
   "source": [
    "print(concat(*\"ILovePython\"))"
   ]
  },
  {
   "cell_type": "markdown",
   "id": "alone-radical",
   "metadata": {},
   "source": [
    "## References\n",
    "- [The Idiomatic Way to Merge Dictionaries in Python](https://treyhunner.com/2016/02/how-to-merge-dictionaries-in-python/)"
   ]
  }
 ],
 "metadata": {
  "kernelspec": {
   "display_name": "Python 3",
   "language": "python",
   "name": "python3"
  },
  "language_info": {
   "codemirror_mode": {
    "name": "ipython",
    "version": 3
   },
   "file_extension": ".py",
   "mimetype": "text/x-python",
   "name": "python",
   "nbconvert_exporter": "python",
   "pygments_lexer": "ipython3",
   "version": "3.7.3"
  }
 },
 "nbformat": 4,
 "nbformat_minor": 5
}
