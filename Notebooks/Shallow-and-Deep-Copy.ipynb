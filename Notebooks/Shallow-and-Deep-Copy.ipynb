{
 "cells": [
  {
   "cell_type": "markdown",
   "id": "monetary-offset",
   "metadata": {},
   "source": [
    "## Mutable vs Immutable\n",
    "\n",
    "Objects in Python are divided into two types: mutable and immutable. Some of the **mutable** data types in Python are **list**, **dictionary**, **set** and **user-defined classes**. \n",
    "On the other hand, some of the **immutable** data types are **int**, **float**, **decimal**, **bool**, **string**, **tuple**, and **range**.\n",
    "\n",
    "In Python, the process of assignment (=) is just:\n",
    "- Create an object (of a certain value)\n",
    "- Point the variable name to (reference) this object\n",
    "\n",
    "This is like the concept of pointers in the C language, but it is more flexible that variables in Python can point to other objects (regardless of type) at any time, and other variables can also point to this object. If this object is mutable, then changes to one of the reference variables will affect other variables: "
   ]
  },
  {
   "cell_type": "code",
   "execution_count": 42,
   "id": "romance-essay",
   "metadata": {},
   "outputs": [
    {
     "name": "stdout",
     "output_type": "stream",
     "text": [
      "lst = [1, 2, 3]\n",
      "lst = [1, 2, 3, 4]\n",
      "d = {'a': 1}\n",
      "d = {'a': 1, 'b': 2}\n"
     ]
    }
   ],
   "source": [
    "lst = [1, 2, 3]\n",
    "print(f'lst = {lst}')\n",
    "s = lst\n",
    "s.append(4)\n",
    "print(f'lst = {lst}')\n",
    "\n",
    "d = {'a': 1}\n",
    "print(f'd = {d}')\n",
    "e = d\n",
    "d['b'] = 2\n",
    "print(f'd = {d}')"
   ]
  },
  {
   "cell_type": "markdown",
   "id": "located-leather",
   "metadata": {},
   "source": [
    "If you do not deliberately want to do this (in fact, you rarely want to do this), then it may cause some unexpected errors (**especially when passing parameters to a function**). In order to solve this trouble, the easiest way is not to directly point the variable to the existing object, but to generate a new copy and assign it to the new variable. There are many syntaxes that can be implemented: "
   ]
  },
  {
   "cell_type": "code",
   "execution_count": 43,
   "id": "continuous-estate",
   "metadata": {},
   "outputs": [
    {
     "name": "stdout",
     "output_type": "stream",
     "text": [
      "Original List: [1, 2, 3, '#0']\n",
      "List of Lists: [[1, 2, 3, '#0'], [1, 2, 3, '#1'], [1, 2, 3, '#2'], [1, 2, 3, '#3']]\n",
      "Original Dict: {'a': 0, 'indx': '#0'}\n",
      "List of Dicts: [{'a': 0, 'indx': '#0'}, {'a': 0, 'indx': '#1'}, {'a': 0, 'indx': '#2'}]\n"
     ]
    }
   ],
   "source": [
    "lst = [1,2,3]\n",
    "\n",
    "# This list contains original list and copies of that list; The first item is original list.\n",
    "list_of_lists = [lst,\n",
    "        lst[:],\n",
    "        lst.copy(),\n",
    "        [*lst]] # invalid in 2.7\n",
    "\n",
    "# Add an index to each list to ensure that change occurs only in that list.\n",
    "for i, v in enumerate(list_of_lists):\n",
    "    v.append(\"#{}\".format(i))\n",
    "    \n",
    "print(f'Original List: {lst}')\n",
    "print(f'List of Lists: {list_of_lists}')\n",
    "\n",
    "d = {\"a\": 0}\n",
    "# This list contains original dict and copies of that dict; The first item is original dict.\n",
    "list_of_dict = [d,\n",
    "      d.copy(),\n",
    "      {**d}] # invalid in 2.7\n",
    "\n",
    "# Add an index to each dict to ensure that change occurs only in that dict.\n",
    "for i, v in enumerate(list_of_dict):\n",
    "    v['indx'] = \"#{}\".format(i)\n",
    "    \n",
    "print(f'Original Dict: {d}')\n",
    "print(f'List of Dicts: {list_of_dict}')"
   ]
  },
  {
   "cell_type": "markdown",
   "id": "offshore-international",
   "metadata": {},
   "source": [
    "## Shallow vs Deep Copy\n",
    "The copy examples given above are relatively simple, and there is no **nesting**. If the mutable object here also contains other mutable objects, what will be the result: "
   ]
  },
  {
   "cell_type": "code",
   "execution_count": 44,
   "id": "distant-estimate",
   "metadata": {},
   "outputs": [
    {
     "name": "stdout",
     "output_type": "stream",
     "text": [
      "[0, 1, [2, 3, '#0', '#1', '#2', '#3']]\n",
      "{'a': {'b': [0, '#0', '#1', '#2']}}\n"
     ]
    }
   ],
   "source": [
    "lst = [0, 1, [2, 3]]\n",
    "\n",
    "llst = [lst,\n",
    "        lst[:],\n",
    "        lst.copy(),\n",
    "        [*lst]]\n",
    "\n",
    "for i, v in enumerate(llst):\n",
    "    v[2].append(\"#{}\".format(i))  # Append index to internal list\n",
    "    \n",
    "print(lst)\n",
    "\n",
    "d = {\"a\": {\"b\": [0]}}\n",
    "dd = [d,\n",
    "      d.copy(),\n",
    "      {**d}]\n",
    "\n",
    "for i, v in enumerate(dd):\n",
    "    v['a']['b'].append(\"#{}\".format(i))  # Append index to internal list\n",
    "    \n",
    "print(d)"
   ]
  },
  {
   "cell_type": "markdown",
   "id": "environmental-guest",
   "metadata": {},
   "source": [
    "These copy methods are called **shallow copy**, which is a step further than direct assignment to generate new objects, but for nested objects, assignment is still used to create; if you want to go further, you need Deep copy, provided by the standard library copy:"
   ]
  },
  {
   "cell_type": "code",
   "execution_count": 45,
   "id": "rotary-italian",
   "metadata": {},
   "outputs": [
    {
     "name": "stdout",
     "output_type": "stream",
     "text": [
      "lst = [0, 1, [2, 3]]\n",
      "lst2 = [0, 1, [2, 3, 4]]\n",
      "d = {'a': {'b': [0]}}\n",
      "d2 = {'a': {'b': [0, 1]}}\n"
     ]
    }
   ],
   "source": [
    "from copy import deepcopy\n",
    "\n",
    "lst = [0, 1, [2, 3]]\n",
    "lst2 = deepcopy(lst)\n",
    "lst2[2].append(4)\n",
    "\n",
    "print(f'lst = {lst}')\n",
    "print(f'lst2 = {lst2}')\n",
    "\n",
    "d = {\"a\": {\"b\": [0]}}\n",
    "d2 = deepcopy(d)\n",
    "d2[\"a\"][\"b\"].append(1)\n",
    "\n",
    "print(f'd = {d}')\n",
    "print(f'd2 = {d2}')"
   ]
  },
  {
   "cell_type": "markdown",
   "id": "boolean-roads",
   "metadata": {},
   "source": [
    "## Pass Objects to Functions\n",
    "**Mutable** object is called by reference in a function, so it can change the original variable itself. **Immutable** objects can be called by reference because its value cannot be changed anyways."
   ]
  },
  {
   "cell_type": "code",
   "execution_count": 46,
   "id": "surgical-capitol",
   "metadata": {},
   "outputs": [
    {
     "name": "stdout",
     "output_type": "stream",
     "text": [
      "lst = [1, 2, 3],\tID: 2348384742664\n",
      "lst = [1, 2, 3, 4],\tID: 2348384742664\n"
     ]
    }
   ],
   "source": [
    "def update_list(lst):\n",
    "    lst += [4]\n",
    "    \n",
    "lst = [1, 2, 3]\n",
    "print(f'lst = {lst},\\tID: {id(lst)}')\n",
    "\n",
    "update_list(lst)\n",
    "\n",
    "print(f'lst = {lst},\\tID: {id(lst)}')"
   ]
  },
  {
   "cell_type": "markdown",
   "id": "generic-competition",
   "metadata": {},
   "source": [
    "As we can see from the above example, we have called the list via **call by reference**, so the changes are made to the original list itself."
   ]
  },
  {
   "cell_type": "code",
   "execution_count": 47,
   "id": "charged-andrew",
   "metadata": {},
   "outputs": [
    {
     "name": "stdout",
     "output_type": "stream",
     "text": [
      "m = 5,\tID: 140714621035280\n",
      "n = 15,\tID: 140714621035600\n",
      "m = 5,\tID: 140714621035280\n"
     ]
    }
   ],
   "source": [
    "def update_number(n):\n",
    "    n += 10\n",
    "    print(f'n = {n},\\tID: {id(n)}')\n",
    "    \n",
    "m = 5\n",
    "\n",
    "print(f'm = {m},\\tID: {id(m)}')\n",
    "\n",
    "update_number(m)\n",
    "\n",
    "print(f'm = {m},\\tID: {id(m)}')"
   ]
  },
  {
   "cell_type": "markdown",
   "id": "prompt-hamilton",
   "metadata": {},
   "source": [
    "## Exceptions in immutability\n",
    "Not all of the immutable objects are actually immutable!\n",
    "\n",
    "Python containers liked tuples are immutable. That means value of a <code>tuple</code> can't be changed after it is created. But the \"value\" of a tuple is infact a sequence of names with unchangeable bindings to objects. **The key thing to note is that the bindings are unchangeable, not the objects they are bound to.**"
   ]
  },
  {
   "cell_type": "code",
   "execution_count": 1,
   "id": "helpful-directive",
   "metadata": {},
   "outputs": [
    {
     "name": "stdout",
     "output_type": "stream",
     "text": [
      "('Gandalf', [1, 2, 3])\n",
      "('Gandalf', [1, 2, 3, 4])\n"
     ]
    }
   ],
   "source": [
    "t = ('Gandalf', [1, 2, 3])\n",
    "print(t)\n",
    "t[1].append(4)\n",
    "print(t)"
   ]
  },
  {
   "cell_type": "markdown",
   "id": "alone-radical",
   "metadata": {},
   "source": [
    "## References\n",
    "- [Python Docs: Shallow and deep copy operations](https://docs.python.org/3/library/copy.html)"
   ]
  }
 ],
 "metadata": {
  "kernelspec": {
   "display_name": "Python 3",
   "language": "python",
   "name": "python3"
  },
  "language_info": {
   "codemirror_mode": {
    "name": "ipython",
    "version": 3
   },
   "file_extension": ".py",
   "mimetype": "text/x-python",
   "name": "python",
   "nbconvert_exporter": "python",
   "pygments_lexer": "ipython3",
   "version": "3.7.3"
  }
 },
 "nbformat": 4,
 "nbformat_minor": 5
}
