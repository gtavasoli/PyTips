{
 "cells": [
  {
   "cell_type": "markdown",
   "id": "missing-wagner",
   "metadata": {},
   "source": [
    "## Iterators and Generators\n",
    "Iterator and generator are two concepts that are commonly used and easily confused in Python. Today I will sort them out and give some common examples.\n",
    "\n",
    "The for statement and iterable object:"
   ]
  },
  {
   "cell_type": "code",
   "execution_count": 1,
   "id": "classified-swedish",
   "metadata": {},
   "outputs": [
    {
     "name": "stdout",
     "output_type": "stream",
     "text": [
      "1\n",
      "2\n",
      "3\n"
     ]
    }
   ],
   "source": [
    "for i in [1, 2, 3]:\n",
    "    print(i)"
   ]
  },
  {
   "cell_type": "code",
   "execution_count": 2,
   "id": "acquired-campus",
   "metadata": {},
   "outputs": [
    {
     "name": "stdout",
     "output_type": "stream",
     "text": [
      "a\n",
      "b\n"
     ]
    }
   ],
   "source": [
    "obj = {\"a\": 123, \"b\": 456}\n",
    "for k in obj:\n",
    "    print(k)"
   ]
  },
  {
   "cell_type": "markdown",
   "id": "broken-battlefield",
   "metadata": {},
   "source": [
    "These objects that can be used in for statements to loop through are iterable objects. In addition to the built-in data types (lists, tuples, strings, dictionaries, etc.) that can be iterated through the for statement, we can also create a **container by ourselves that contains a series of elements**, and we can loop through the for statement to retrieve each element in turn. The container is the iterator. In addition to traversing with for, the iterator can also read the next element one by one through the next() method. There are three ways to create an iterator. The first two are:\n",
    "1. Add `__iter__()` and `__next__()` methods to the container object (`next()` in Python 2.7); `__iter__()` returns the iterator object itself, and `__next__()` returns the elements of each call to `next()` or iteration ；\n",
    "1. The built-in function `iter()` converts an iterable object into an iterator "
   ]
  },
  {
   "cell_type": "code",
   "execution_count": 2,
   "id": "nervous-enterprise",
   "metadata": {},
   "outputs": [
    {
     "name": "stdout",
     "output_type": "stream",
     "text": [
      "<class 'list_iterator'>\n",
      "1\n",
      "2\n",
      "3\n",
      "[LOG] I made this iterator!\n",
      "[LOG] Calling __next__ method!\n",
      "0\n",
      "[LOG] Calling __next__ method!\n",
      "1\n",
      "[LOG] Calling __next__ method!\n",
      "2\n",
      "[LOG] Calling __next__ method!\n",
      "3\n",
      "[LOG] Calling __next__ method!\n",
      "4\n",
      "[LOG] Calling __next__ method!\n"
     ]
    }
   ],
   "source": [
    "# iter(IterableObject)\n",
    "ita = iter([1, 2, 3])\n",
    "print(type(ita))\n",
    "\n",
    "print(next(ita))\n",
    "print(next(ita))\n",
    "print(next(ita))\n",
    "\n",
    "# Create iterator Object\n",
    "class MyContainer:\n",
    "    def __init__(self, start = 0, end = 0):\n",
    "        self.start = start\n",
    "        self.end = end\n",
    "    def __iter__(self):\n",
    "        print(\"[LOG] I made this iterator!\")\n",
    "        return self\n",
    "    def __next__(self):\n",
    "        print(\"[LOG] Calling __next__ method!\")\n",
    "        if self.start < self.end:\n",
    "            i = self.start\n",
    "            self.start += 1\n",
    "            return i\n",
    "        else:\n",
    "            raise StopIteration()\n",
    "c = MyContainer(0, 5)\n",
    "for i in c:\n",
    "    print(i)"
   ]
  },
  {
   "cell_type": "markdown",
   "id": "numerous-choir",
   "metadata": {},
   "source": [
    "The advantage of creating an iterator object is that when the length of the sequence is large, it can **reduce memory consumption**, because you only need to record one value every time (I often see people introducing the range function of Python 2.7, and it is recommended to use xrange when the length is too large. Quickly, xrange has been removed in Python 3.5. There is only one range like an iterator)."
   ]
  },
  {
   "cell_type": "markdown",
   "id": "powerful-knitting",
   "metadata": {},
   "source": [
    "### Generator\n",
    "As mentioned earlier, there are 3 ways to create an iterator, the third of which is a generator. The generator quickly generates iterators through the yield statement, omitting the complicated `__iter__()` & `__next__()` methods:"
   ]
  },
  {
   "cell_type": "code",
   "execution_count": 3,
   "id": "north-camcorder",
   "metadata": {},
   "outputs": [
    {
     "name": "stdout",
     "output_type": "stream",
     "text": [
      "<class 'generator'>\n",
      "0\n",
      "2\n",
      "3\n",
      "4\n"
     ]
    }
   ],
   "source": [
    "def container(start, end):\n",
    "    while start < end:\n",
    "        yield start\n",
    "        start += 1\n",
    "        \n",
    "c = container(0, 5)\n",
    "\n",
    "print(type(c))\n",
    "print(next(c))\n",
    "next(c)\n",
    "for i in c:\n",
    "    print(i)"
   ]
  },
  {
   "cell_type": "markdown",
   "id": "hairy-pocket",
   "metadata": {},
   "source": [
    "Simply put, the yield statement can turn an ordinary function into a generator, and the corresponding `__next__()` method returns the value after yield. A more intuitive explanation is that when the program is executed, yield will return the value and pause. When `next()` is called again, the execution will continue from where it was paused last time:"
   ]
  },
  {
   "cell_type": "code",
   "execution_count": 4,
   "id": "strange-better",
   "metadata": {},
   "outputs": [
    {
     "name": "stdout",
     "output_type": "stream",
     "text": [
      "5\n",
      "Hello\n",
      "World\n",
      "4\n"
     ]
    }
   ],
   "source": [
    "def gen():\n",
    "    yield 5\n",
    "    yield \"Hello\"\n",
    "    yield \"World\"\n",
    "    yield 4\n",
    "    \n",
    "for i in gen():\n",
    "    print(i)"
   ]
  },
  {
   "cell_type": "markdown",
   "id": "strategic-mount",
   "metadata": {},
   "source": [
    "Python 3.5 (precisely 3.3 or later) has added more features to the generator, including yield from and send() that returns the value to the generator where it is paused. In order to keep it concise, I won’t introduce it in depth. If you are interested, you can read the official document description and reference link 2."
   ]
  },
  {
   "cell_type": "markdown",
   "id": "hispanic-circus",
   "metadata": {},
   "source": [
    "## References\n",
    "- [Iterators & Generators](http://anandology.com/python-practice-book/iterators.html)\n",
    "- [How the heck does async/await work in Python 3.5?](https://snarky.ca/how-the-heck-does-async-await-work-in-python-3-5/)\n",
    "- [Python's yield from](http://charlesleifer.com/blog/python-s-yield-from/)"
   ]
  }
 ],
 "metadata": {
  "kernelspec": {
   "display_name": "Python 3",
   "language": "python",
   "name": "python3"
  },
  "language_info": {
   "codemirror_mode": {
    "name": "ipython",
    "version": 3
   },
   "file_extension": ".py",
   "mimetype": "text/x-python",
   "name": "python",
   "nbconvert_exporter": "python",
   "pygments_lexer": "ipython3",
   "version": "3.7.3"
  }
 },
 "nbformat": 4,
 "nbformat_minor": 5
}
